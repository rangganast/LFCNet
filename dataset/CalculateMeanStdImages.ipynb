{
 "cells": [
  {
   "cell_type": "code",
   "execution_count": null,
   "id": "40f6fe12-153c-4752-b8af-034048fed80e",
   "metadata": {},
   "outputs": [],
   "source": [
    "from pathlib import Path\n",
    "import cv2\n",
    "import numpy as np\n",
    "import matplotlib.pyplot as plt"
   ]
  },
  {
   "cell_type": "code",
   "execution_count": null,
   "id": "65af34a4-da6a-48f0-abe6-89b381ab8e78",
   "metadata": {},
   "outputs": [
    {
     "name": "stdout",
     "output_type": "stream",
     "text": [
      "num samples: 76251\n"
     ]
    }
   ],
   "source": [
    "base_dir = Path('/home/rangganast/rangganast/dataset/KITTI-360/data_2d_raw')\n",
    "all_files = []\n",
    "\n",
    "# Loop through all drive folders\n",
    "for drive_folder in sorted(base_dir.glob('2013_05_28_drive_*_sync')):\n",
    "    image_02_dir = drive_folder / 'image_02' / 'data_rgb'\n",
    "    if image_02_dir.exists():\n",
    "        all_files.extend(image_02_dir.glob('*.png'))\n",
    "\n",
    "# Since the std can't be calculated by simply finding it for each image and averaging like  \n",
    "# the mean can be, to get the std we first calculate the overall mean in a first run then  \n",
    "# run it again to get the std.\n",
    "\n",
    "mean = np.array([0.,0.,0.])\n",
    "stdTemp = np.array([0.,0.,0.])\n",
    "std = np.array([0.,0.,0.])\n",
    "\n",
    "numSamples = len(all_files)\n",
    "print('num samples: {}'.format(numSamples))\n",
    "\n",
    "for i in range(numSamples):\n",
    "    im = cv2.imread(str(all_files[i]))\n",
    "    im = cv2.cvtColor(im, cv2.COLOR_BGR2RGB)\n",
    "    im = im.astype(float) / 255.\n",
    "    \n",
    "    for j in range(3):\n",
    "        mean[j] += np.mean(im[:,:,j])\n",
    "\n",
    "mean = (mean/numSamples)\n",
    "\n",
    "for i in range(numSamples):\n",
    "    im = cv2.imread(str(all_files[i]))\n",
    "    im = cv2.cvtColor(im, cv2.COLOR_BGR2RGB)\n",
    "    im = im.astype(float) / 255.\n",
    "    for j in range(3):\n",
    "        stdTemp[j] += ((im[:,:,j] - mean[j])**2).sum()/(im.shape[0]*im.shape[1])\n",
    "\n",
    "std = np.sqrt(stdTemp/numSamples)\n",
    "\n",
    "print(mean)\n",
    "print(std)"
   ]
  },
  {
   "cell_type": "code",
   "execution_count": null,
   "id": "578b8946-979d-4b40-a03f-8e1a90bcb4d0",
   "metadata": {},
   "outputs": [],
   "source": [
    "base_dir = Path('/home/rangganast/rangganast/dataset/KITTI-360/data_2d_raw')\n",
    "all_files = []\n",
    "\n",
    "# Loop through all drive folders\n",
    "for drive_folder in sorted(base_dir.glob('2013_05_28_drive_*_sync')):\n",
    "    image_02_dir = drive_folder / 'image_02' / 'data_rgb'\n",
    "    if image_02_dir.exists():\n",
    "        all_files.extend(image_02_dir.glob('*.png'))\n",
    "\n",
    "# Since the std can't be calculated by simply finding it for each image and averaging like  \n",
    "# the mean can be, to get the std we first calculate the overall mean in a first run then  \n",
    "# run it again to get the std.\n",
    "\n",
    "mean = np.array(0.)\n",
    "stdTemp = np.array(0.)\n",
    "std = np.array(0.)\n",
    "\n",
    "numSamples = len(all_files)\n",
    "print('num samples: {}'.format(numSamples))\n",
    "\n",
    "for i in range(numSamples):\n",
    "    im = cv2.imread(str(all_files[i]), cv2.IMREAD_GRAYSCALE)\n",
    "    # print(im.shape)\n",
    "    # print(im.max(), im.min())\n",
    "    # im = cv2.cvtColor(im, cv2.COLOR_BGR2RGB)\n",
    "    im = im.astype(float) / 255.\n",
    "\n",
    "    # print(im[:,:,0], im.shape)\n",
    "    \n",
    "    # for j in range(0):\n",
    "    mean += np.mean(im[:,:])\n",
    "\n",
    "mean = (mean/numSamples)\n",
    "\n",
    "for i in range(numSamples):\n",
    "    im = cv2.imread(str(all_files[i]), cv2.IMREAD_GRAYSCALE)\n",
    "    # im = cv2.cvtColor(im, cv2.COLOR_BGR2RGB)\n",
    "    im = im.astype(float) / 255.\n",
    "    \n",
    "    stdTemp += ((im[:,:] - mean)**2).sum()/(im.shape[0]*im.shape[1])\n",
    "\n",
    "std = np.sqrt(stdTemp/numSamples)\n",
    "\n",
    "print(mean)\n",
    "print(std)"
   ]
  }
 ],
 "metadata": {
  "kernelspec": {
   "display_name": "360-calib-venv",
   "language": "python",
   "name": "python3"
  },
  "language_info": {
   "codemirror_mode": {
    "name": "ipython",
    "version": 3
   },
   "file_extension": ".py",
   "mimetype": "text/x-python",
   "name": "python",
   "nbconvert_exporter": "python",
   "pygments_lexer": "ipython3",
   "version": "3.10.11"
  }
 },
 "nbformat": 4,
 "nbformat_minor": 5
}
